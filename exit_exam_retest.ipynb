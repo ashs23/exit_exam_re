{
  "nbformat": 4,
  "nbformat_minor": 0,
  "metadata": {
    "colab": {
      "provenance": [],
      "gpuType": "T4"
    },
    "kernelspec": {
      "name": "python3",
      "display_name": "Python 3"
    },
    "language_info": {
      "name": "python"
    },
    "accelerator": "GPU"
  },
  "cells": [
    {
      "cell_type": "code",
      "execution_count": 11,
      "metadata": {
        "id": "eJPALwX3kFqm"
      },
      "outputs": [],
      "source": [
        "import pandas as pd\n",
        "train_data = pd.read_csv('/content/Train.csv')\n",
        "test_data = pd.read_excel('/content/test.xlsx')"
      ]
    },
    {
      "cell_type": "code",
      "source": [
        "print(\"Train Data Head:\")\n",
        "print(train_data.head())\n",
        "\n",
        "print(\"\\nTest Data Head:\")\n",
        "print(test_data.head())"
      ],
      "metadata": {
        "colab": {
          "base_uri": "https://localhost:8080/"
        },
        "id": "s1LcK9fYl5b4",
        "outputId": "6301decf-966c-47e8-d367-7f5426907a03"
      },
      "execution_count": 12,
      "outputs": [
        {
          "output_type": "stream",
          "name": "stdout",
          "text": [
            "Train Data Head:\n",
            "   customerID  gender  SeniorCitizen Partner Dependents  tenure PhoneService  \\\n",
            "0  7590-VHVEG  Female            0.0     Yes         No     1.0           No   \n",
            "1  5575-GNVDE    Male            0.0      No         No    34.0          Yes   \n",
            "2  3668-QPYBK    Male            0.0      No         No     2.0          Yes   \n",
            "3  7795-CFOCW    Male            0.0      No         No    45.0           No   \n",
            "4  9237-HQITU  Female            0.0      No         No     2.0          Yes   \n",
            "\n",
            "      MultipleLines InternetService OnlineSecurity  ... DeviceProtection  \\\n",
            "0  No phone service             DSL             No  ...               No   \n",
            "1                No             DSL            Yes  ...              Yes   \n",
            "2                No             DSL            Yes  ...               No   \n",
            "3  No phone service             DSL            Yes  ...              Yes   \n",
            "4                No     Fiber optic             No  ...               No   \n",
            "\n",
            "  TechSupport StreamingTV StreamingMovies        Contract PaperlessBilling  \\\n",
            "0          No          No              No  Month-to-month              Yes   \n",
            "1          No          No              No        One year               No   \n",
            "2          No          No              No  Month-to-month              Yes   \n",
            "3         Yes          No              No        One year               No   \n",
            "4          No          No              No  Month-to-month              Yes   \n",
            "\n",
            "               PaymentMethod MonthlyCharges  TotalCharges Churn  \n",
            "0           Electronic check          29.85         29.85    No  \n",
            "1               Mailed check          56.95        1889.5    No  \n",
            "2               Mailed check          53.85        108.15   Yes  \n",
            "3  Bank transfer (automatic)          42.30       1840.75    No  \n",
            "4           Electronic check          70.70        151.65   Yes  \n",
            "\n",
            "[5 rows x 21 columns]\n",
            "\n",
            "Test Data Head:\n",
            "   customerID  gender  SeniorCitizen Partner Dependents  tenure PhoneService  \\\n",
            "0  2087-QAREY  Female              0     Yes         No    22.0          Yes   \n",
            "1  0601-WZHJF    Male              0     Yes         No    14.0           No   \n",
            "2  4423-JWZJN    Male              0     Yes        Yes    64.0          Yes   \n",
            "3  5143-WMWOG    Male              0      No         No     1.0          Yes   \n",
            "4  6490-FGZAT    Male              0      No         No     6.0          Yes   \n",
            "\n",
            "      MultipleLines InternetService       OnlineSecurity         OnlineBackup  \\\n",
            "0                No             DSL                   No                  Yes   \n",
            "1  No phone service             DSL                   No                   No   \n",
            "2               Yes     Fiber optic                   No                   No   \n",
            "3                No              No  No internet service  No internet service   \n",
            "4                No              No  No internet service  No internet service   \n",
            "\n",
            "      DeviceProtection          TechSupport          StreamingTV  \\\n",
            "0                  Yes                   No                   No   \n",
            "1                   No                   No                  Yes   \n",
            "2                  Yes                   No                   No   \n",
            "3  No internet service  No internet service  No internet service   \n",
            "4  No internet service  No internet service  No internet service   \n",
            "\n",
            "       StreamingMovies        Contract PaperlessBilling  \\\n",
            "0                   No  Month-to-month              Yes   \n",
            "1                  Yes  Month-to-month               No   \n",
            "2                  Yes        One year               No   \n",
            "3  No internet service  Month-to-month               No   \n",
            "4  No internet service  Month-to-month               No   \n",
            "\n",
            "             PaymentMethod  MonthlyCharges TotalCharges  \n",
            "0             Mailed check           54.70      1178.75  \n",
            "1         Electronic check           46.35        667.7  \n",
            "2  Credit card (automatic)           90.25      5629.15  \n",
            "3         Electronic check           19.95        19.95  \n",
            "4             Mailed check           20.65        109.3  \n"
          ]
        }
      ]
    },
    {
      "cell_type": "code",
      "source": [
        "print(\"\\nTrain Data Info:\")\n",
        "print(train_data.info())\n",
        "\n",
        "print(\"\\nTest Data Info:\")\n",
        "print(test_data.info())\n"
      ],
      "metadata": {
        "colab": {
          "base_uri": "https://localhost:8080/"
        },
        "id": "0W0-y0qpmAEC",
        "outputId": "01630fa1-8e76-41b0-d83e-43ee856321d3"
      },
      "execution_count": 13,
      "outputs": [
        {
          "output_type": "stream",
          "name": "stdout",
          "text": [
            "\n",
            "Train Data Info:\n",
            "<class 'pandas.core.frame.DataFrame'>\n",
            "RangeIndex: 5635 entries, 0 to 5634\n",
            "Data columns (total 21 columns):\n",
            " #   Column            Non-Null Count  Dtype  \n",
            "---  ------            --------------  -----  \n",
            " 0   customerID        5635 non-null   object \n",
            " 1   gender            5635 non-null   object \n",
            " 2   SeniorCitizen     5628 non-null   float64\n",
            " 3   Partner           5635 non-null   object \n",
            " 4   Dependents        5635 non-null   object \n",
            " 5   tenure            5622 non-null   float64\n",
            " 6   PhoneService      5622 non-null   object \n",
            " 7   MultipleLines     5622 non-null   object \n",
            " 8   InternetService   5598 non-null   object \n",
            " 9   OnlineSecurity    5620 non-null   object \n",
            " 10  OnlineBackup      5620 non-null   object \n",
            " 11  DeviceProtection  5620 non-null   object \n",
            " 12  TechSupport       5620 non-null   object \n",
            " 13  StreamingTV       5613 non-null   object \n",
            " 14  StreamingMovies   5621 non-null   object \n",
            " 15  Contract          5610 non-null   object \n",
            " 16  PaperlessBilling  5621 non-null   object \n",
            " 17  PaymentMethod     5634 non-null   object \n",
            " 18  MonthlyCharges    5619 non-null   float64\n",
            " 19  TotalCharges      5628 non-null   object \n",
            " 20  Churn             5635 non-null   object \n",
            "dtypes: float64(3), object(18)\n",
            "memory usage: 924.6+ KB\n",
            "None\n",
            "\n",
            "Test Data Info:\n",
            "<class 'pandas.core.frame.DataFrame'>\n",
            "RangeIndex: 1408 entries, 0 to 1407\n",
            "Data columns (total 20 columns):\n",
            " #   Column            Non-Null Count  Dtype  \n",
            "---  ------            --------------  -----  \n",
            " 0   customerID        1408 non-null   object \n",
            " 1   gender            1408 non-null   object \n",
            " 2   SeniorCitizen     1408 non-null   int64  \n",
            " 3   Partner           1408 non-null   object \n",
            " 4   Dependents        1408 non-null   object \n",
            " 5   tenure            1400 non-null   float64\n",
            " 6   PhoneService      1397 non-null   object \n",
            " 7   MultipleLines     1396 non-null   object \n",
            " 8   InternetService   1400 non-null   object \n",
            " 9   OnlineSecurity    1400 non-null   object \n",
            " 10  OnlineBackup      1400 non-null   object \n",
            " 11  DeviceProtection  1398 non-null   object \n",
            " 12  TechSupport       1398 non-null   object \n",
            " 13  StreamingTV       1400 non-null   object \n",
            " 14  StreamingMovies   1393 non-null   object \n",
            " 15  Contract          1393 non-null   object \n",
            " 16  PaperlessBilling  1393 non-null   object \n",
            " 17  PaymentMethod     1400 non-null   object \n",
            " 18  MonthlyCharges    1400 non-null   float64\n",
            " 19  TotalCharges      1408 non-null   object \n",
            "dtypes: float64(2), int64(1), object(17)\n",
            "memory usage: 220.1+ KB\n",
            "None\n"
          ]
        }
      ]
    },
    {
      "cell_type": "markdown",
      "source": [
        " Exploratory Data Analysis (EDA)"
      ],
      "metadata": {
        "id": "UVQtgyV9mLO8"
      }
    },
    {
      "cell_type": "code",
      "source": [
        "import matplotlib.pyplot as plt\n",
        "import seaborn as sns\n",
        "\n",
        "print(\"Missing values in Train dataset:\")\n",
        "print(train_data.isnull().sum())\n",
        "\n",
        "print(\"\\nMissing values in Test dataset:\")\n",
        "print(test_data.isnull().sum())"
      ],
      "metadata": {
        "colab": {
          "base_uri": "https://localhost:8080/"
        },
        "id": "KKAb_sM6kSdx",
        "outputId": "7780fee0-7324-4724-94f6-a0433906091e"
      },
      "execution_count": 14,
      "outputs": [
        {
          "output_type": "stream",
          "name": "stdout",
          "text": [
            "Missing values in Train dataset:\n",
            "customerID           0\n",
            "gender               0\n",
            "SeniorCitizen        7\n",
            "Partner              0\n",
            "Dependents           0\n",
            "tenure              13\n",
            "PhoneService        13\n",
            "MultipleLines       13\n",
            "InternetService     37\n",
            "OnlineSecurity      15\n",
            "OnlineBackup        15\n",
            "DeviceProtection    15\n",
            "TechSupport         15\n",
            "StreamingTV         22\n",
            "StreamingMovies     14\n",
            "Contract            25\n",
            "PaperlessBilling    14\n",
            "PaymentMethod        1\n",
            "MonthlyCharges      16\n",
            "TotalCharges         7\n",
            "Churn                0\n",
            "dtype: int64\n",
            "\n",
            "Missing values in Test dataset:\n",
            "customerID           0\n",
            "gender               0\n",
            "SeniorCitizen        0\n",
            "Partner              0\n",
            "Dependents           0\n",
            "tenure               8\n",
            "PhoneService        11\n",
            "MultipleLines       12\n",
            "InternetService      8\n",
            "OnlineSecurity       8\n",
            "OnlineBackup         8\n",
            "DeviceProtection    10\n",
            "TechSupport         10\n",
            "StreamingTV          8\n",
            "StreamingMovies     15\n",
            "Contract            15\n",
            "PaperlessBilling    15\n",
            "PaymentMethod        8\n",
            "MonthlyCharges       8\n",
            "TotalCharges         0\n",
            "dtype: int64\n"
          ]
        }
      ]
    },
    {
      "cell_type": "code",
      "source": [
        "plt.figure(figsize=(6,4))\n",
        "sns.countplot(data=train_data, x='Churn')\n",
        "plt.title('Distribution of Churn')\n",
        "plt.show()\n",
        "plt.figure(figsize=(10, 6))"
      ],
      "metadata": {
        "colab": {
          "base_uri": "https://localhost:8080/",
          "height": 445
        },
        "id": "l97_7b55mYTC",
        "outputId": "6e9df705-e168-4636-b555-73732fcae70d"
      },
      "execution_count": 15,
      "outputs": [
        {
          "output_type": "display_data",
          "data": {
            "text/plain": [
              "<Figure size 600x400 with 1 Axes>"
            ],
            "image/png": "[encoded data removed]"
          },
          "metadata": {}
        },
        {
          "output_type": "execute_result",
          "data": {
            "text/plain": [
              "<Figure size 1000x600 with 0 Axes>"
            ]
          },
          "metadata": {},
          "execution_count": 15
        },
        {
          "output_type": "display_data",
          "data": {
            "text/plain": [
              "<Figure size 1000x600 with 0 Axes>"
            ]
          },
          "metadata": {}
        }
      ]
    },
    {
      "cell_type": "code",
      "source": [
        "numeric_data = train_data.select_dtypes(include=['number'])\n",
        "sns.heatmap(numeric_data.corr(), annot=True, cmap='coolwarm')\n",
        "plt.title('Correlation Heatmap')\n",
        "plt.show()\n"
      ],
      "metadata": {
        "colab": {
          "base_uri": "https://localhost:8080/",
          "height": 452
        },
        "id": "9aGeVCzbmX8d",
        "outputId": "e9c03a27-6b0f-40ec-b663-a000537029a8"
      },
      "execution_count": 16,
      "outputs": [
        {
          "output_type": "display_data",
          "data": {
            "text/plain": [
              "<Figure size 640x480 with 2 Axes>"
            ],
            "image/png": "[encoded data removed]"
          },
          "metadata": {}
        }
      ]
    },
    {
      "cell_type": "code",
      "source": [
        "plt.figure(figsize=(6,4))\n",
        "sns.histplot(train_data['MonthlyCharges'], kde=True)\n",
        "plt.title('Distribution of Monthly Charges')\n",
        "plt.show()"
      ],
      "metadata": {
        "colab": {
          "base_uri": "https://localhost:8080/",
          "height": 410
        },
        "id": "biJL8dlZmnwR",
        "outputId": "eca06d73-f92a-42ec-f459-5990c425a0cb"
      },
      "execution_count": 17,
      "outputs": [
        {
          "output_type": "display_data",
          "data": {
            "text/plain": [
              "<Figure size 600x400 with 1 Axes>"
            ],
            "image/png": "[encoded data removed]"
          },
          "metadata": {}
        }
      ]
    },
    {
      "cell_type": "markdown",
      "source": [
        "Preprocess the data"
      ],
      "metadata": {
        "id": "MbvznBTkm-Sx"
      }
    },
    {
      "cell_type": "code",
      "source": [
        "from sklearn.model_selection import train_test_split\n",
        "from sklearn.preprocessing import StandardScaler, LabelEncoder\n",
        "from sklearn.impute import SimpleImputer\n",
        "\n",
        "imputer = SimpleImputer(strategy='mean')\n",
        "train_data['tenure'] = imputer.fit_transform(train_data[['tenure']])\n",
        "train_data['MonthlyCharges'] = imputer.fit_transform(train_data[['MonthlyCharges']])\n",
        "train_data['TotalCharges'] = pd.to_numeric(train_data['TotalCharges'], errors='coerce')  # Convert TotalCharges to numeric\n",
        "train_data['TotalCharges'] = imputer.fit_transform(train_data[['TotalCharges']])\n",
        "\n",
        "categorical_columns = train_data.select_dtypes(include='object').columns\n",
        "for col in categorical_columns:\n",
        "    train_data[col].fillna(train_data[col].mode()[0], inplace=True)\n",
        "\n",
        "label_encoder = LabelEncoder()\n",
        "for col in categorical_columns:\n",
        "    train_data[col] = label_encoder.fit_transform(train_data[col])\n",
        "\n",
        "scaler = StandardScaler()\n",
        "numeric_columns = ['tenure', 'MonthlyCharges', 'TotalCharges']\n",
        "train_data[numeric_columns] = scaler.fit_transform(train_data[numeric_columns])\n",
        "\n",
        "X = train_data.drop(['Churn', 'customerID'], axis=1)\n",
        "y = train_data['Churn']\n",
        "\n",
        "X_train, X_val, y_train, y_val = train_test_split(X, y, test_size=0.2, random_state=42)\n",
        "\n",
        "print(\"Missing values in X_train:\", X_train.isnull().sum().sum())\n",
        "print(\"Missing values in y_train:\", y_train.isnull().sum())\n",
        "\n",
        "X_train = X_train.dropna()\n",
        "y_train = y_train.dropna()\n",
        "\n",
        "print(\"Missing values in X_train after dropping:\", X_train.isnull().sum().sum())\n",
        "print(\"Missing values in y_train after dropping:\", y_train.isnull().sum())"
      ],
      "metadata": {
        "colab": {
          "base_uri": "https://localhost:8080/"
        },
        "id": "cjcZb2knkpPf",
        "outputId": "ca0403dd-0ec8-48a9-d2db-037156bb707c"
      },
      "execution_count": 18,
      "outputs": [
        {
          "output_type": "stream",
          "name": "stdout",
          "text": [
            "Missing values in X_train: 4\n",
            "Missing values in y_train: 0\n",
            "Missing values in X_train after dropping: 0\n",
            "Missing values in y_train after dropping: 0\n"
          ]
        }
      ]
    },
    {
      "cell_type": "code",
      "source": [
        "numeric_data = train_data.select_dtypes(include=['number'])\n",
        "train_data.fillna(numeric_data.median(), inplace=True)"
      ],
      "metadata": {
        "id": "ZZx2nw8Gq6o3"
      },
      "execution_count": 19,
      "outputs": []
    },
    {
      "cell_type": "code",
      "source": [
        "print(train_data.isnull().sum())"
      ],
      "metadata": {
        "colab": {
          "base_uri": "https://localhost:8080/"
        },
        "id": "ug8ANFVqqC0r",
        "outputId": "7d377a57-f6f1-4e4b-a0c5-65f282f43a24"
      },
      "execution_count": 20,
      "outputs": [
        {
          "output_type": "stream",
          "name": "stdout",
          "text": [
            "customerID          0\n",
            "gender              0\n",
            "SeniorCitizen       0\n",
            "Partner             0\n",
            "Dependents          0\n",
            "tenure              0\n",
            "PhoneService        0\n",
            "MultipleLines       0\n",
            "InternetService     0\n",
            "OnlineSecurity      0\n",
            "OnlineBackup        0\n",
            "DeviceProtection    0\n",
            "TechSupport         0\n",
            "StreamingTV         0\n",
            "StreamingMovies     0\n",
            "Contract            0\n",
            "PaperlessBilling    0\n",
            "PaymentMethod       0\n",
            "MonthlyCharges      0\n",
            "TotalCharges        0\n",
            "Churn               0\n",
            "dtype: int64\n"
          ]
        }
      ]
    },
    {
      "cell_type": "markdown",
      "source": [
        "machine learning model"
      ],
      "metadata": {
        "id": "GHu0lh_UnT2w"
      }
    },
    {
      "cell_type": "code",
      "source": [
        "from sklearn.model_selection import train_test_split\n",
        "from sklearn.ensemble import RandomForestClassifier\n",
        "from sklearn.metrics import accuracy_score, classification_report\n",
        "from sklearn.preprocessing import StandardScaler, LabelEncoder\n",
        "from sklearn.impute import SimpleImputer\n",
        "\n",
        "X_train, X_test, y_train, y_test = train_test_split(X, y, test_size=0.2, random_state=42) # Create X_test and y_test\n",
        "\n",
        "\n",
        "imputer = SimpleImputer(strategy='mean')\n",
        "\n",
        "numerical_cols = X_train.select_dtypes(include=['number']).columns\n",
        "for col in numerical_cols:\n",
        "    X_train[col] = imputer.fit_transform(X_train[[col]])\n",
        "    X_test[col] = imputer.transform(X_test[[col]])\n",
        "\n",
        "\n",
        "categorical_cols = X_train.select_dtypes(include=['object']).columns\n",
        "for col in categorical_cols:\n",
        "    X_train[col] = X_train[col].fillna(X_train[col].mode()[0])\n",
        "    X_test[col] = X_test[col].fillna(X_test[col].mode()[0])\n",
        "\n",
        "label_encoder = LabelEncoder()\n",
        "for col in categorical_cols:\n",
        "    X_train[col] = label_encoder.fit_transform(X_train[col])\n",
        "    X_test[col] = label_encoder.transform(X_test[col])\n",
        "\n",
        "scaler = StandardScaler()\n",
        "X_train[numerical_cols] = scaler.fit_transform(X_train[numerical_cols])\n",
        "X_test[numerical_cols] = scaler.transform(X_test[numerical_cols])\n",
        "\n",
        "rf = RandomForestClassifier()\n",
        "rf.fit(X_train, y_train)\n",
        "y_pred_rf = rf.predict(X_test)\n",
        "print(\"Random Forest Accuracy:\", accuracy_score(y_test, y_pred_rf))\n",
        "print(classification_report(y_test, y_pred_rf))"
      ],
      "metadata": {
        "colab": {
          "base_uri": "https://localhost:8080/"
        },
        "id": "mzVbDd8irQPb",
        "outputId": "b666b945-43dc-4f91-ff26-e22fd844da2c"
      },
      "execution_count": 21,
      "outputs": [
        {
          "output_type": "stream",
          "name": "stdout",
          "text": [
            "Random Forest Accuracy: 0.7737355811889973\n",
            "              precision    recall  f1-score   support\n",
            "\n",
            "           0       0.82      0.89      0.85       822\n",
            "           1       0.61      0.47      0.53       305\n",
            "\n",
            "    accuracy                           0.77      1127\n",
            "   macro avg       0.71      0.68      0.69      1127\n",
            "weighted avg       0.76      0.77      0.76      1127\n",
            "\n"
          ]
        }
      ]
    },
    {
      "cell_type": "markdown",
      "source": [
        "Hyperparameter"
      ],
      "metadata": {
        "id": "yJdQVz-Lx3tX"
      }
    },
    {
      "cell_type": "code",
      "source": [
        "from sklearn.impute import SimpleImputer\n",
        "from sklearn.ensemble import RandomForestClassifier\n",
        "from sklearn.metrics import classification_report, accuracy_score\n",
        "from sklearn.model_selection import GridSearchCV\n",
        "\n",
        "imputer = SimpleImputer(strategy='mean')\n",
        "\n",
        "X_train_imputed = imputer.fit_transform(X_train)\n",
        "X_val_imputed = imputer.transform(X_val)\n",
        "\n",
        "rf_model = RandomForestClassifier(random_state=42)\n",
        "\n",
        "param_grid = {\n",
        "    'n_estimators': [100, 200],\n",
        "    'max_depth': [10, 20, None],\n",
        "    'min_samples_split': [2, 5],\n",
        "    'min_samples_leaf': [1, 2]\n",
        "}\n",
        "\n",
        "grid_search = GridSearchCV(estimator=rf_model, param_grid=param_grid, cv=5, scoring='accuracy', n_jobs=-1, verbose=2)\n",
        "grid_search.fit(X_train_imputed, y_train)\n",
        "\n",
        "print(\"\\nBest Parameters from Grid Search:\")\n",
        "print(grid_search.best_params_)\n",
        "\n",
        "best_rf_model = grid_search.best_estimator_\n",
        "y_pred_best = best_rf_model.predict(X_val_imputed)\n",
        "\n",
        "print(\"\\nFinal Model Accuracy:\", accuracy_score(y_val, y_pred_best))\n",
        "print(\"\\nFinal Classification Report:\")\n",
        "print(classification_report(y_val, y_pred_best))\n"
      ],
      "metadata": {
        "colab": {
          "base_uri": "https://localhost:8080/"
        },
        "id": "7XWTPPMcxHPq",
        "outputId": "e3e5fa5e-cee2-4d65-997f-413415cde0c0"
      },
      "execution_count": 27,
      "outputs": [
        {
          "output_type": "stream",
          "name": "stdout",
          "text": [
            "Fitting 5 folds for each of 24 candidates, totalling 120 fits\n",
            "\n",
            "Best Parameters from Grid Search:\n",
            "{'max_depth': 10, 'min_samples_leaf': 2, 'min_samples_split': 2, 'n_estimators': 100}\n",
            "\n",
            "Final Model Accuracy: 0.7293700088731144\n",
            "\n",
            "Final Classification Report:\n",
            "              precision    recall  f1-score   support\n",
            "\n",
            "           0       0.73      1.00      0.84       822\n",
            "           1       0.00      0.00      0.00       305\n",
            "\n",
            "    accuracy                           0.73      1127\n",
            "   macro avg       0.36      0.50      0.42      1127\n",
            "weighted avg       0.53      0.73      0.62      1127\n",
            "\n"
          ]
        },
        {
          "output_type": "stream",
          "name": "stderr",
          "text": [
            "/usr/local/lib/python3.10/dist-packages/sklearn/metrics/_classification.py:1471: UndefinedMetricWarning: Precision and F-score are ill-defined and being set to 0.0 in labels with no predicted samples. Use `zero_division` parameter to control this behavior.\n",
            "  _warn_prf(average, modifier, msg_start, len(result))\n",
            "/usr/local/lib/python3.10/dist-packages/sklearn/metrics/_classification.py:1471: UndefinedMetricWarning: Precision and F-score are ill-defined and being set to 0.0 in labels with no predicted samples. Use `zero_division` parameter to control this behavior.\n",
            "  _warn_prf(average, modifier, msg_start, len(result))\n",
            "/usr/local/lib/python3.10/dist-packages/sklearn/metrics/_classification.py:1471: UndefinedMetricWarning: Precision and F-score are ill-defined and being set to 0.0 in labels with no predicted samples. Use `zero_division` parameter to control this behavior.\n",
            "  _warn_prf(average, modifier, msg_start, len(result))\n"
          ]
        }
      ]
    }
  ]
}